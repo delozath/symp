{
 "cells": [
  {
   "cell_type": "markdown",
   "metadata": {},
   "source": [
    "# Máquinas de estados finitos"
   ]
  },
  {
   "cell_type": "markdown",
   "metadata": {},
   "source": [
    "## 1. Registro de corrimiento a la izquierda"
   ]
  },
  {
   "cell_type": "code",
   "execution_count": null,
   "metadata": {
    "collapsed": true
   },
   "outputs": [],
   "source": [
    "vector = '0110101'\n",
    "i      = 0\n",
    "state  = 'S'\n",
    "bit    = vector[i]\n",
    "L      = len(vector)"
   ]
  },
  {
   "cell_type": "code",
   "execution_count": null,
   "metadata": {
    "collapsed": false
   },
   "outputs": [],
   "source": [
    "if state == 'S':\n",
    "    if i<L:\n",
    "        print vector[i]\n",
    "        i +=1\n",
    "    else:\n",
    "        state = 'E'\n",
    "elif state == 'E':\n",
    "    print 'fin'"
   ]
  },
  {
   "cell_type": "markdown",
   "metadata": {},
   "source": [
    "## 2. Contador con carga sincrónico"
   ]
  },
  {
   "cell_type": "code",
   "execution_count": null,
   "metadata": {
    "collapsed": false
   },
   "outputs": [],
   "source": [
    "state = 'W'\n",
    "l     = 0\n",
    "sel   = 0\n",
    "N     = 3\n",
    "i     = 0"
   ]
  },
  {
   "cell_type": "code",
   "execution_count": null,
   "metadata": {
    "collapsed": false
   },
   "outputs": [],
   "source": [
    "l   = input('l: ')\n",
    "sel = input('sel: ')\n",
    "if state=='W':\n",
    "    if l==0:\n",
    "        state = 'L'\n",
    "    else:\n",
    "        if sel==1:\n",
    "            state = 'C'\n",
    "elif state=='C':\n",
    "    if i<N:\n",
    "        i += 1\n",
    "    else:\n",
    "        state = 'W'\n",
    "        i = 0\n",
    "elif state=='L':\n",
    "    if l==0:\n",
    "        N = input('N: ')\n",
    "    else:\n",
    "        state='W'\n",
    "\n",
    "print state, i, N"
   ]
  },
  {
   "cell_type": "markdown",
   "metadata": {},
   "source": [
    "## 3. Analizador de sintaxis de paréntesis"
   ]
  },
  {
   "cell_type": "code",
   "execution_count": null,
   "metadata": {
    "collapsed": true
   },
   "outputs": [],
   "source": [
    "exp   = '2*5*(-7+3*(2/8))) '\n",
    "op    = 0\n",
    "cl    = False\n",
    "state = 'R'\n",
    "i     = 0\n",
    "s     = exp[i]"
   ]
  },
  {
   "cell_type": "code",
   "execution_count": null,
   "metadata": {
    "collapsed": false
   },
   "outputs": [],
   "source": [
    "if state == 'R':\n",
    "    if i<len(exp)-1:\n",
    "        state = 'R'\n",
    "        if s == '(':\n",
    "            op += 1\n",
    "        elif s == ')':\n",
    "            op -= 1\n",
    "            if op<0:\n",
    "                cl = True\n",
    "        i += 1\n",
    "        s  = exp[i]\n",
    "    else:\n",
    "        state = 'E'\n",
    "elif state == 'E':\n",
    "    if cl:\n",
    "        print 'error tipo )('\n",
    "    elif op != 0:\n",
    "        print 'error parentesis'\n",
    "    elif op == 0:\n",
    "        print 'sintaxis correcta'\n",
    "\n",
    "print 'i: %d,\\tstate: %s,\\tch: %s\\np open: %d,\\tflag: %d,\\tL: %d'%(i, state, s, op, cl, len(exp))"
   ]
  }
 ],
 "metadata": {
  "kernelspec": {
   "display_name": "Python 2",
   "language": "python",
   "name": "python2"
  },
  "language_info": {
   "codemirror_mode": {
    "name": "ipython",
    "version": 2
   },
   "file_extension": ".py",
   "mimetype": "text/x-python",
   "name": "python",
   "nbconvert_exporter": "python",
   "pygments_lexer": "ipython2",
   "version": "2.7.14"
  }
 },
 "nbformat": 4,
 "nbformat_minor": 2
}
