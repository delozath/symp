{
 "cells": [
  {
   "cell_type": "markdown",
   "metadata": {},
   "source": [
    "# Ejemplo: crear una lista de prioridades para consulta médica\n",
    "\n",
    "**Conceptos**\n",
    " - Listas ligadas\n",
    " - Desarrollo iterativo e incremental\n",
    " - Diseño de programas con estructuras de datos\n",
    " - Condiciones iniciales"
   ]
  },
  {
   "cell_type": "markdown",
   "metadata": {},
   "source": [
    "### Primera iteración"
   ]
  },
  {
   "cell_type": "code",
   "execution_count": 1,
   "metadata": {
    "collapsed": true
   },
   "outputs": [],
   "source": [
    "consultas = []"
   ]
  },
  {
   "cell_type": "code",
   "execution_count": 2,
   "metadata": {
    "collapsed": true
   },
   "outputs": [],
   "source": [
    "def release_med( consultas ):\n",
    "    if len(consultas) != 0:\n",
    "        print 'pedir nuevo paciente'\n",
    "    else:\n",
    "        print 'tiempo libre'"
   ]
  },
  {
   "cell_type": "code",
   "execution_count": 3,
   "metadata": {
    "collapsed": false
   },
   "outputs": [
    {
     "name": "stdout",
     "output_type": "stream",
     "text": [
      "tiempo libre\n"
     ]
    }
   ],
   "source": [
    "release_med( consultas )"
   ]
  },
  {
   "cell_type": "markdown",
   "metadata": {},
   "source": [
    "### Segunda iteración"
   ]
  },
  {
   "cell_type": "code",
   "execution_count": null,
   "metadata": {
    "collapsed": true
   },
   "outputs": [],
   "source": [
    "consultas = []\n",
    "NCONS     = 5\n",
    "clibre    = 5"
   ]
  },
  {
   "cell_type": "code",
   "execution_count": 9,
   "metadata": {
    "collapsed": true
   },
   "outputs": [],
   "source": [
    "def release_med( consultas,clibre ):\n",
    "    if len(consultas) != 0:\n",
    "        consulta = consultas.pop()\n",
    "        print 'El paciente %d será atendido'%consulta[1]\n",
    "        if len(consultas) < NCONS:\n",
    "            clibre += 1\n",
    "            print 'release',len(consultas),NCONS,clibre\n",
    "    else:\n",
    "        print 'tiempo libre'\n",
    "        clibre = NCONS\n",
    "    print (len(consultas),clibre,NCONS)\n",
    "    return clibre"
   ]
  },
  {
   "cell_type": "code",
   "execution_count": 7,
   "metadata": {
    "collapsed": true
   },
   "outputs": [],
   "source": [
    "def new_paciente(id_paciente,prioridad,consultas,clibre):\n",
    "    node = [prioridad, id_paciente]\n",
    "    consultas.append(node)\n",
    "    consultas.sort()\n",
    "    if (clibre < NCONS+1) and (clibre > 0):\n",
    "        clibre -= 1\n",
    "    \n",
    "    return clibre"
   ]
  },
  {
   "cell_type": "code",
   "execution_count": 8,
   "metadata": {
    "collapsed": true
   },
   "outputs": [],
   "source": [
    "def status( params, nparams):\n",
    "    x = ''\n",
    "    for i,j in zip(params,nparams):\n",
    "        x += j\n",
    "        x += ': %s\\n'%i\n",
    "    \n",
    "    print x"
   ]
  },
  {
   "cell_type": "markdown",
   "metadata": {},
   "source": [
    "### Inicio"
   ]
  },
  {
   "cell_type": "code",
   "execution_count": 29,
   "metadata": {
    "collapsed": true
   },
   "outputs": [],
   "source": [
    "consultas = []\n",
    "NCONS     = 5\n",
    "clibre    = 5"
   ]
  },
  {
   "cell_type": "code",
   "execution_count": 30,
   "metadata": {
    "collapsed": false
   },
   "outputs": [
    {
     "name": "stdout",
     "output_type": "stream",
     "text": [
      "[[1, 1203], [1, 2780], [1, 8008], [2, 8086], [3, 3041], [4, 6000], [4, 80486], [5, 4004], [5, 6120]]\n"
     ]
    }
   ],
   "source": [
    "clibre = new_paciente(6120  ,5, consultas,clibre)\n",
    "clibre = new_paciente(3041  ,3, consultas,clibre)\n",
    "clibre = new_paciente(1203  ,1, consultas,clibre)\n",
    "clibre = new_paciente(4004  ,5, consultas,clibre)\n",
    "clibre = new_paciente(80486 ,4, consultas,clibre)\n",
    "clibre = new_paciente(8008  ,1, consultas,clibre)\n",
    "clibre = new_paciente(8086  ,2, consultas,clibre)\n",
    "clibre = new_paciente(2780  ,1, consultas,clibre)\n",
    "clibre = new_paciente(6000  ,4, consultas,clibre)\n",
    "\n",
    "print consultas"
   ]
  },
  {
   "cell_type": "code",
   "execution_count": 31,
   "metadata": {
    "collapsed": false
   },
   "outputs": [
    {
     "name": "stdout",
     "output_type": "stream",
     "text": [
      "El paciente 6120 será atendido\n",
      "(8, 0, 5)\n",
      "El paciente 4004 será atendido\n",
      "(7, 0, 5)\n",
      "El paciente 80486 será atendido\n",
      "(6, 0, 5)\n",
      "El paciente 6000 será atendido\n",
      "(5, 0, 5)\n",
      "El paciente 3041 será atendido\n",
      "release 4 5 1\n",
      "(4, 1, 5)\n"
     ]
    }
   ],
   "source": [
    "clibre = release_med( consultas,clibre )\n",
    "clibre = release_med( consultas,clibre )\n",
    "clibre = release_med( consultas,clibre )\n",
    "clibre = release_med( consultas,clibre )\n",
    "clibre = release_med( consultas,clibre )"
   ]
  },
  {
   "cell_type": "code",
   "execution_count": 39,
   "metadata": {
    "collapsed": false
   },
   "outputs": [
    {
     "name": "stdout",
     "output_type": "stream",
     "text": [
      "El paciente 8086 será atendido\n",
      "release 3 5 2\n",
      "(3, 2, 5)\n"
     ]
    }
   ],
   "source": [
    "clibre = release_med( consultas,clibre )"
   ]
  },
  {
   "cell_type": "code",
   "execution_count": 40,
   "metadata": {
    "collapsed": false
   },
   "outputs": [
    {
     "name": "stdout",
     "output_type": "stream",
     "text": [
      "consultas: [[1, 1203], [1, 2780], [1, 8008]]\n",
      "consultorios libres: 2\n",
      "\n"
     ]
    }
   ],
   "source": [
    "status( [consultas,clibre], ['consultas','consultorios libres'])"
   ]
  }
 ],
 "metadata": {
  "kernelspec": {
   "display_name": "Python 2",
   "language": "python",
   "name": "python2"
  },
  "language_info": {
   "codemirror_mode": {
    "name": "ipython",
    "version": 2
   },
   "file_extension": ".py",
   "mimetype": "text/x-python",
   "name": "python",
   "nbconvert_exporter": "python",
   "pygments_lexer": "ipython2",
   "version": "2.7.14"
  }
 },
 "nbformat": 4,
 "nbformat_minor": 2
}
