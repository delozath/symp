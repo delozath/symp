{
 "cells": [
  {
   "cell_type": "markdown",
   "metadata": {},
   "source": [
    "# Ejemplo: crear una lista de prioridades para consulta médica\n",
    "\n",
    "**Conceptos**\n",
    " - Listas ligadas\n",
    " - Desarrollo iterativo e incremental\n",
    " - Diseño de programas con estructuras de datos\n",
    " - Condiciones iniciales"
   ]
  },
  {
   "cell_type": "markdown",
   "metadata": {},
   "source": [
    "### Primera iteración"
   ]
  },
  {
   "cell_type": "code",
   "execution_count": 6,
   "metadata": {},
   "outputs": [],
   "source": [
    "consultas = []"
   ]
  },
  {
   "cell_type": "code",
   "execution_count": 7,
   "metadata": {},
   "outputs": [],
   "source": [
    "def release_med( consultas ):\n",
    "    if len(consultas) != 0:\n",
    "        print 'pedir nuevo paciente'\n",
    "    else:\n",
    "        print 'tiempo libre'"
   ]
  },
  {
   "cell_type": "code",
   "execution_count": 8,
   "metadata": {},
   "outputs": [
    {
     "name": "stdout",
     "output_type": "stream",
     "text": [
      "tiempo libre\n"
     ]
    }
   ],
   "source": [
    "release_med( consultas )"
   ]
  },
  {
   "cell_type": "markdown",
   "metadata": {},
   "source": [
    "### Segunda iteración"
   ]
  },
  {
   "cell_type": "code",
   "execution_count": 390,
   "metadata": {},
   "outputs": [],
   "source": [
    "consultas = []\n",
    "NCONS     = 5\n",
    "clibre    = 5"
   ]
  },
  {
   "cell_type": "code",
   "execution_count": 433,
   "metadata": {},
   "outputs": [],
   "source": [
    "def release_med( consultas,clibre ):\n",
    "    if len(consultas) != 0:\n",
    "        consulta = consultas.pop()\n",
    "        print 'El paciente %d será atendido'%consulta[1]\n",
    "        if len(consultas) < NCONS:\n",
    "            clibre += 1\n",
    "            print 'release',len(consultas),NCONS,clibre\n",
    "    else:\n",
    "        print 'tiempo libre'\n",
    "        clibre = NCONS\n",
    "    print (len(consultas),clibre,NCONS)\n",
    "    return clibre"
   ]
  },
  {
   "cell_type": "code",
   "execution_count": 457,
   "metadata": {},
   "outputs": [],
   "source": [
    "def new_paciente(id_paciente,prioridad,consultas,clibre):\n",
    "    node = [prioridad, id_paciente]\n",
    "    consultas.append(node)\n",
    "    consultas.sort()\n",
    "    if (clibre < NCONS+1) and (clibre > 0):\n",
    "        clibre -= 1\n",
    "    \n",
    "    return clibre"
   ]
  },
  {
   "cell_type": "code",
   "execution_count": 441,
   "metadata": {},
   "outputs": [],
   "source": [
    "def status( params, nparams):\n",
    "    x = ''\n",
    "    for i,j in zip(params,nparams):\n",
    "        x += j\n",
    "        x += ': %s\\n'%i\n",
    "    \n",
    "    print x"
   ]
  },
  {
   "cell_type": "markdown",
   "metadata": {},
   "source": [
    "### Inicio"
   ]
  },
  {
   "cell_type": "code",
   "execution_count": 458,
   "metadata": {},
   "outputs": [],
   "source": [
    "consultas = []\n",
    "NCONS     = 5\n",
    "clibre    = 5"
   ]
  },
  {
   "cell_type": "code",
   "execution_count": 463,
   "metadata": {},
   "outputs": [
    {
     "name": "stdout",
     "output_type": "stream",
     "text": [
      "[[1, 1203], [1, 1203], [1, 8008], [1, 8008], [3, 3041], [3, 3041], [5, 4004], [5, 6120]]\n"
     ]
    }
   ],
   "source": [
    "clibre = new_paciente(6120 ,5, consultas,clibre)\n",
    "clibre = new_paciente(3041 ,3, consultas,clibre)\n",
    "clibre = new_paciente(1203 ,1, consultas,clibre)\n",
    "clibre = new_paciente(4004 ,5, consultas,clibre)\n",
    "clibre = new_paciente(8008 ,1, consultas,clibre)\n",
    "\n",
    "print consultas"
   ]
  },
  {
   "cell_type": "code",
   "execution_count": 464,
   "metadata": {},
   "outputs": [
    {
     "name": "stdout",
     "output_type": "stream",
     "text": [
      "consultas: [[1, 1203], [1, 1203], [1, 8008], [1, 8008], [3, 3041], [3, 3041], [5, 4004], [5, 6120]]\n",
      "consultorios libres: 0\n",
      "\n"
     ]
    }
   ],
   "source": [
    "status( [consultas,clibre], ['consultas','consultorios libres'])"
   ]
  },
  {
   "cell_type": "code",
   "execution_count": 477,
   "metadata": {},
   "outputs": [
    {
     "name": "stdout",
     "output_type": "stream",
     "text": [
      "tiempo libre\n",
      "(0, 5, 5)\n"
     ]
    }
   ],
   "source": [
    "clibre = release_med( consultas,clibre )"
   ]
  }
 ],
 "metadata": {
  "kernelspec": {
   "display_name": "Python 2",
   "language": "python",
   "name": "python2"
  },
  "language_info": {
   "codemirror_mode": {
    "name": "ipython",
    "version": 2
   },
   "file_extension": ".py",
   "mimetype": "text/x-python",
   "name": "python",
   "nbconvert_exporter": "python",
   "pygments_lexer": "ipython2",
   "version": "2.7.14"
  }
 },
 "nbformat": 4,
 "nbformat_minor": 2
}
